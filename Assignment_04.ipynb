{
  "nbformat": 4,
  "nbformat_minor": 0,
  "metadata": {
    "colab": {
      "provenance": []
    },
    "kernelspec": {
      "name": "python3",
      "display_name": "Python 3"
    },
    "language_info": {
      "name": "python"
    }
  },
  "cells": [
    {
      "cell_type": "markdown",
      "source": [
        "# Python OOPs\n",
        "\n",
        "1. What is Object-Oriented Programming (OOP) ?\n",
        "\n",
        "   - OOP (object-oriented programming) is a software development methodology that treats objects as \"objects.\"  These items, each with unique data and functionalities, resemble tiny building bricks.  Classes are templates used to generate these things.  The fundamental concepts of OOP are rather straightforward.  First encapsulation makes things easier to manage by putting all of an object's associated information together.  Time and effort can be saved by using inheritance to allow one object to borrow functionality from another. The term polymorphism refers to the ability of an action to function differently depending on the object it is operating on.  Additionally, abstraction obscures the complex details and only displays what is required.  OOP facilitates the development of structured and adaptable programs, particularly as they get bigger\n",
        "\n",
        "2. What is a class in OOP ?\n",
        "\n",
        "   - Classes in OOP function similarly to blueprints for creating things.  Assume that you wish to construct a toy automobile.  Before you start building it, you need a design that specifies the color, speed, and buttons that it will have.  It's similar to a class.  It explains how to manufacture a toy automobile but does not actually make one.  Numerous toy cars (objects) with varying colors and speeds can be made once you have the blueprint (class), but they all share the same fundamental concept.  Programming classes specify the attributes (like color, size) and behaviors (like move, stop) that objects derived from them will possess.\n",
        "\n",
        " 3. What is an object in OOP ?     \n",
        "\n",
        " - An object in OOP(object-oriented programming) has its own features and functions, just like a real-world object.  Consider your phone.  Its characteristics include color, brand, and storage capacity.  Its actions include taking pictures, making calls, and playing music.  Objects in programming function similarly.  Classes serve as templates for their creation.  For instance, a 'Phone' class specifies what a phone should have but doesn't actually build a phone.  You can create a black phone, a white phone, a 128GB phone, and a 256GB phone after using that class.  Although every phone is unique, they all have a similar basic design.  Code is kept neat, orderly, and manageable with the aid of objects\n",
        "\n",
        " 4. What is the difference between abstraction and encapsulation ?\n",
        "\n",
        " - The process of abstracting anything involves removing extraneous elements and displaying only its most important characteristics.  By letting people interact with only the things they require, it helps make complicated systems simpler.  To drive an automobile, you don't have to know how the gears, engine, and fuel injection operate.  The brakes, accelerator, and steering wheel are all you need.  Abstraction is similar in programming.  Using the \"sendEmail()\" function, for instance, obscures the intricate reasoning that goes into sending the email.  The function just needs to be called; the rest is handled by the system.\n",
        "\n",
        " -  The process of protecting data by limiting direct access and permitting only controlled interaction is known as encapsulation.  It guarantees that crucial information contained in an object is not inadvertently altered or abused.  Consider the security feature on your phone, which uses a password or fingerprint lock to safeguard your messages, images, and apps.  Encapsulation in programming is accomplished by making variables private and offering public methods for secure access or modification.  In this manner, errors are decreased and maintainability is enhanced as only allowed portions of the program can make changes and internal data is kept safe\n",
        "\n",
        "\n",
        " 5. What are dunder methods in Python  ?\n",
        "\n",
        "  - Python special methods called Dunder methods, or magic methods, begin and end with double underscores (such as _init, __str, and __len).  These methods are used internally by Python to describe the behavior of objects and are not intended for direct user calls.  The __str_ method, for instance, regulates how an item is shown when you print it, and the _init_ method initializes an object when a class is invoked.  Consider them as built-in shortcuts that enable you to alter the way objects function in the background, clearing up and simplifying your code  \n",
        "\n",
        "6.  Explain the concept of inheritance in OOP ?\n",
        "\n",
        "  -  Imagine you’re building a software system, and you notice that different\n",
        "   parts of it share a lot of common functionality. Instead of writing the same\n",
        "   code again and again, wouldn’t it be great if you could just reuse what you’ve already written? That’s exactly what inheritance in Object-Oriented Programming (OOP) helps with.\n",
        "\n",
        "   Think of it like a family. A child inherits certain traits from their parents—maybe eye color, hair type, or even personality traits. In programming, a child class (or subclass) inherits properties and behaviors from a parent class (or superclass). This means if you’ve already written a class for, say, a Vehicle, and it has attributes like speed, color, and methods like start() and stop(), you don’t need to rewrite all of that when creating a new class for Car or Bike. Instead, those classes can simply 'inherit'from the Vehicle class and then add their own unique features, like a sunroof for a car or handlebars for a bike.\n",
        "   This makes your code cleaner, easier to maintain, and more organized. Plus, if you ever need to update a common feature, you only have to do it in one place—the parent class—and all the child classes will automatically get the update. It's like setting a family tradition in code\n",
        "\n",
        "  7. What is polymorphism in OOP ?\n",
        "\n",
        "   - In Object-Oriented Programming (OOP), polymorphism is the idea that a single interface can be used for several classes or data types.  Code becomes more flexible and easier to maintain when objects of different classes are considered as instances of the same superclass.  Runtime (or dynamic) and compile-time (or static) polymorphism are the two primary categories.  Method overloading allows for compile-time polymorphism by giving several methods the same name but distinct parameters.  Method overriding is a technique used to provide runtime polymorphism in which a subclass offers a unique implementation of a method that is already defined in the parent class.  Software developers frequently utilize this idea to design scalable and reusable code, which enables them to add features without changing already-written code.\n",
        "\n",
        "\n",
        " 8.  How is encapsulation achieved in Python ?\n",
        "\n",
        "   -  One of the core ideas of object-oriented programming in Python is encapsulation, which limits direct access to an object's functions and data.  The public, protected, and secret access modifiers are used to do this.  Whereas protected attributes and methods imply restricted access within the class and its subclasses, public attributes and methods are accessible from anywhere.  Data security is ensured using private attributes, which block direct access outside the class.  Name mangling is a technique used by Python to further secure private variables.  By limiting unwanted changes, encapsulation encourages data hiding, integrity, and modularity.  Getter and setter methods securely manage attribute values in place of direct access.  Despite Python's lax enforcement, adhering to encapsulation principles makes code easier to maintain and secure, which enhances software design and resilience\n",
        "\n",
        "  9. What is a constructor in Python ?\n",
        "    \n",
        "   -  In Python  a constructor is a unique method that sets up an object during creation.  It is automatically launched upon instantiation and is defined within a class using the _INT_ function.  Assigning values to instance variables is its primary responsibility guaranteeing that every object has the required properties at launch.  Values would need to be manually set in the absence of a constructor, which would make the code repetitious and ineffective.  Using a constructor makes the process of creating objects more organized and effective.  Python offers a default constructor in the event that none is defined.  Constructors enhance readability, minimize errors, and preserve consistency.  They guarantee correct initialization and assist developers in efficiently managing objects.  Because of this, they are crucial to object-oriented programming. As a result, program complexity is decreased and coding becomes more structured, improving efficiency\n",
        "\n",
        "  10. What are class and static methods in Python ?\n",
        "      \n",
        "                                       Class Methods in Python\n",
        "\n",
        "    - A procedure that uses the class rather than class instances is called a class method.  Its first parameter, cls, is the class itself, and it is defined using the @classmethod decorator.  Due to their ability to modify class-level properties, class methods are useful for alternate constructors or class-wide operations.  Unlike instance methods, which require an instance to be called, class methods are accessible directly through the class.  In every instance, they facilitate the management of shared data.  A class method may, for example, track the quantity of objects created.  They ensure that CLS is used to retain subclass behavior that is inherited.  Class methods improve code organization and enable more effective work with class-level data.\n",
        "\n",
        "                                      Static Methods in Python\n",
        "\n",
        "   - Static Python Methods  Within a class, a static method is a function that is independent of instance or class properties.  Self and cls are not parameters, and it is defined with the @staticmethod decorator.  For tasks like calculations, data validation, or utility functions that are connected to the class but do not require access to its data, static methods are helpful since they operate independently, unlike ordinary methods.  Because they are instance independent, they can be invoked straight from the class.  Static methods could be used, for instance, to format a text or determine whether a number is even.  Because there are no needless dependencies on objects, code is kept orderly and manageable by placing such methods inside the class\n",
        "\n",
        "\n",
        "   11. What is method overloading in Python ?\n",
        "\n",
        "      - You can declare numerous methods with the same name but different parameters in many languages thanks to a feature called method overloading.  However, only the last-defined method is recognized in Python; classical overloading is not supported.  Python manages this instead by utilizing default arguments, *args, or **kwargs, which enables a single function to accommodate various argument numbers and types.  This maintains the code's flexibility and simplicity.  We can simulate overloading behavior without creating several instances of the same function by verifying the quantity or kind of arguments inside a method.  This method provides dynamic overloading functionality while also making Python code more compact\n",
        "\n",
        "  12. What is method overriding in OOP ?\n",
        "\n",
        "     -  In object-oriented programming (OOP), method overriding is a basic idea that enables a subclass to redefine a method from its parent class.  By doing this, the subclass can change or expand the functionality of the method while maintaining the same name and parameters.  When modifying behavior in a child class without altering the structure of the parent class, it is helpful.  Overriding in Python is as easy as redefining the method in the subclass.  The parent method can be reached via super () if it is still required.  Because of this, the code is easier to handle in larger projects and becomes more versatile and reusable\n",
        "      \n",
        "  13. What is a property decorator in Python ?\n",
        "\n",
        "     -  A property decorator allows you to control the access and modification of class attributes in Python while keeping your code readable and straightforward.  Instead of exposing variables explicitly, you can use @property to create a method that acts as an attribute and gives you control over how values are fetched.  If the value needs to be changed safely, @property_name.setter can be used to provide validation, such as prohibiting negative wages in an employee class.  By using @property_name.deleter, you can also describe what happens when the attribute is deleted.  This approach not only ensures improved structure and data protection, but it also makes the code easier to read.  Without compromising the convenience of regular attribute access, this approach to attribute management is simple yet efficient, giving you flexibility\n",
        "\n",
        "\n",
        "  14.  Why is polymorphism important in OOP ?\n",
        "\n",
        "    - Telling diverse people to \"get to work\" and letting them do it in their own way is what polymorphism is all about.  It means that you can use the same function in programming for a variety of object kinds, and each one would react differently.  Consider a business where managers, designers, and developers all have work() methods.  Rather than creating distinct instructions for every position, you simply call work(), and they will perform their assigned responsibilities automatically.  This maintains the code's organization, simplicity, and ease of updating.  Simply specify the person's work style if a new role is added; you don't need to completely redo everything.  It's a clever method to increase programs' efficiency and flexibility so they can develop and adapt without needless hassles  \n",
        "\n",
        "  15. What is an abstract class in Python ?\n",
        "\n",
        "    - In Python, an abstract class functions similarly to a template for other classes.  It does not include comprehensive implementations of its methods, but it does specify a general framework.  Rather, it has one or more abstract methods that every class that inherits from it needs to define.  Abstract classes provide for flexibility in their own implementations while ensuring that all child classes adhere to a particular pattern.  The ABC (Abstract Base Class) module is used in Python to generate abstract classes.  An abstract class is defined by defining at least one method with @abstractmethod and inheriting from ABC.  This prevents any subclass from using the method until it has provided its own version\n",
        "\n",
        "  16. What are the advantages of OOP ?\n",
        "\n",
        "   - Object-Oriented Programming (OOP) makes coding easier, more structured, and reusable. It divides large programs into objects, making them simpler to understand and manage. Instead of writing long, repetitive code, OOP allows reusability, which saves time and effort.\n",
        "\n",
        "   A key advantage is reusability—once a class is created, it can be used again without rewriting code. Encapsulation protects data by limiting direct access and preventing errors. Inheritance lets one class use features from another, reducing extra work. Polymorphism allows the same function to behave differently for different objects, making programs more flexible.\n",
        "\n",
        "   OOP also makes debugging and updating code easier. Since programs are divided into small parts, fixing errors and adding new features becomes simple. This is why OOP is widely used in software development\n",
        "\n",
        "  17.  What is the difference between a class variable and an instance variable ?\n",
        "\n",
        "   - Python stores data in two separate ways: class variables and instance variables. All objects share a class variable, which is a property of the class. Any modifications made to a class variable by one object have an impact on all others. For instance, every car object will have four wheels if the Car class's wheels = 4. Each object has its own instance variable. Since self is used to specify it inside the constructor (init), every object can have a different value. For instance, one car may be red and another blue if the Car object has an instance variable color. In summary, instance variables make each object unique, while class variables ensure shared properties, making data management more flexible in Python\n",
        "\n",
        "   18. What is multiple inheritance in Python ?\n",
        "\n",
        "      - numerous inheritance is a Python feature that allows a class to inherit from numerous parent classes.  Because it may utilize features and methods from other classes, the child class becomes more adaptable and reusable.  It keeps the code structured and prevents the same reasoning from being repeated.  However, when two parent classes have methods with the same name, multiple inheritance can occasionally be challenging.  Though it can still lead to confusion, Python manages this by employing the Method Resolution Order {MRO} to determine which method should execute first.  Although code reuse might benefit from multiple inheritance, it should be used sparingly to prevent conflicts and maintain the program's readability and maintainability\n",
        "\n",
        "   19. Eplain the purpose of ‘’__str__’ and ‘__repr__’ ‘ methods in Python ?\n",
        "\n",
        "       - The _str_ method in Python is used to provide an object a readable and easy-to-use string representation.  Python invokes the _str_ function automatically when you use print(object).  Users should be able to understand and benefit from the string that this method returns.  Its primary purpose is to show important details about an object.  Alternatively, the _repr_ technique is designed for debugging and developers.  It gives an object a more accurate and thorough string representation.  It should ideally produce a string that may be used to rebuild the object when supplied to eval().  Python reverts to _repr_ in the absence of _str_.  Because it displays the object's technical characteristics, this function is helpful for troubleshooting.\n",
        "\n",
        "    20. What is the significance of the ‘super()’ function in Python ?\n",
        "\n",
        "       -  A child class in Python can invoke methods from its parent class using the super() function.  The ability to retrieve the parent method's original version using super() is particularly helpful when a child class overrides a method.  Because it makes sure the right method is used based on Python's Method Resolution Order [MRO] it simplifies multiple inheritance, which is one of its greatest benefits.  This helps prevent problems like calling to the same procedure twice.  The class structure is also kept organized by using super(), which makes the code cleaner and simpler to maintain.  In object-oriented programming, super() is a useful technique for handling inheritance since it increases readability and performance\n",
        "\n",
        "      21. What is the significance of the __del__ method in Python ?\n",
        "\n",
        "         - When an object in Python is ready to be deleted, a special function called _del_ is called.  It helps clear resources before an object is deleted from memory, which is why it is sometimes called a destructor.  When a program terminates or all references to an object are removed, this function is automatically called.  The primary function of _del_ is resource release, such as memory clearing, file closure, and database disconnections.  However, material should be handled cautiously because poor handling can lead to problems like garbage collection delays.  When additional cleanup is required, _del_ is utilized; otherwise, Python's built-in garbage collector takes care of memory cleanup\n",
        "\n",
        "    22. What is the difference between @staticmethod and @classmethod in Python ?\n",
        "\n",
        "        - Both @staticmethod and @classmethod are used in Python for methods that aren't associated with a particular object, although they have different functions.  A @staticmethod is merely a class-based function that doesn't communicate with the class or its objects.  It doesn't require self or cls because it serves primarily as an organizing tool and functions similarly to other functions.  In contrast, the class itself is referenced via the parameter cls, which is passed to a ..@classmethod..  It can now call other class methods or modify class-level variables as a result.  It comes in handy when you need to work with the class as a whole instead of just one object. Depending on your needs, either keeps code neat and orderly\n",
        "\n",
        "     23. How does polymorphism work in Python with inheritance ?\n",
        "\n",
        "        - Python polymorphism enables a method to act differently depending on the object calling it.  It enables child classes to extend or change a parent class method while maintaining the method name when inheritance is applied.  This indicates that separate child classes can each carry out distinct operations even though they share a method name.  Because we don't need to verify the object's type before invoking a method, this increases the flexibility of code.  Depending on the object's class, Python automatically chooses the appropriate method.  When dealing with several object types that require their own behavior yet share a common method, this is extremely useful.  Object-oriented programming is made easier to handle by polymorphism, which also increases code reuse and maintains program structure.\n",
        "\n",
        "      24. What is method chaining in Python OOP ?\n",
        "          - In Python OOP, method chaining refers to the practice of calling several methods on the same object in a single line.  In order for the following method to be called directly, each method must return the object itself.  By eliminating the need for unnecessary lines and temporary variables, it makes the code more understandable and concise.  For instance, method chaining enables you to write methods in a continuous flow rather than calling them one at a time.  This method is frequently utilized in classes when changes must be made gradually, including when processing input, updating attributes, or setting values.  Although method chaining makes the code more readable, it should be done cautiously to prevent problems by making sure that each method returns the object correctly.\n",
        "\n",
        "      25. F What is the purpose of the __call__ method in Python ?\n",
        "\n",
        "         - The _call_ method in Python allows an object to behave as a function.  You can build an instance and invoke it just like you would an ordinary function if a class offers this method.  When you want an object to have callable, dynamic behavior without having distinct methods, this is helpful.  It is frequently utilized in decorators, caching systems, and machine learning models where an instance must process input in the same way as a function.  This method increases the flexibility and reusability of code.\n",
        "\n",
        "\n",
        "\n",
        "------------------------------------------------------------------------------------------\n",
        "    "
      ],
      "metadata": {
        "id": "LnfP8aBNcAQn"
      }
    },
    {
      "cell_type": "code",
      "source": [
        "#Practical Questions\n",
        "class Animal:\n",
        "    def speak(self):\n",
        "        print(\"This animal makes a sound.\")\n",
        "\n",
        "class Dog(Animal):\n",
        "    def speak(self):\n",
        "        print(\"Bark!\")\n",
        "\n",
        "animal = Animal()\n",
        "animal.speak()\n",
        "\n",
        "dog = Dog()\n",
        "dog.speak()\n",
        "\n"
      ],
      "metadata": {
        "colab": {
          "base_uri": "https://localhost:8080/"
        },
        "id": "9n9jMRuqOuzY",
        "outputId": "c7ee3ff4-7e20-4e86-a3c7-14fbbc0d1a16"
      },
      "execution_count": 2,
      "outputs": [
        {
          "output_type": "stream",
          "name": "stdout",
          "text": [
            "This animal makes a sound.\n",
            "Bark!\n"
          ]
        }
      ]
    },
    {
      "cell_type": "code",
      "source": [
        "\n",
        "\n",
        "class Shape(ABC):\n",
        "    @abstractmethod\n",
        "    def area(self):\n",
        "        pass\n",
        "\n",
        "class Circle(Shape):\n",
        "    def __init__(self, radius):\n",
        "        self.radius = radius\n",
        "\n",
        "    def area(self):\n",
        "        return math.pi * (self.radius ** 2)\n",
        "\n",
        "class Rectangle(Shape):\n",
        "    def __init__(self, width, height):\n",
        "        self.width = width\n",
        "        self.height = height\n",
        "\n",
        "    def area(self):\n",
        "        return self.width * self.height\n",
        "\n",
        "circle = Circle(5)\n",
        "print(\"Circle area:\", circle.area())\n",
        "\n",
        "rectangle = Rectangle(4, 6)\n",
        "print(\"Rectangle area:\", rectangle.area())\n"
      ],
      "metadata": {
        "colab": {
          "base_uri": "https://localhost:8080/"
        },
        "id": "rV5yyEmLPwuz",
        "outputId": "833064c8-7295-4983-a708-8bf24b12191c"
      },
      "execution_count": 4,
      "outputs": [
        {
          "output_type": "stream",
          "name": "stdout",
          "text": [
            "Circle area: 78.53981633974483\n",
            "Rectangle area: 24\n"
          ]
        }
      ]
    },
    {
      "cell_type": "code",
      "source": [
        "\n",
        "class Vehicle:\n",
        "    def __init__(self, type_of_vehicle):\n",
        "        self.type = type_of_vehicle\n",
        "\n",
        "class Car(Vehicle):\n",
        "    def __init__(self, type_of_vehicle, model):\n",
        "        super().__init__(type_of_vehicle)\n",
        "        self.model = model\n",
        "\n",
        "class ElectricCar(Car):\n",
        "    def __init__(self, type_of_vehicle, model, battery):\n",
        "        super().__init__(type_of_vehicle, model)\n",
        "        self.battery = battery\n",
        "\n",
        "\n",
        "electric_car = ElectricCar(\"Electric\", \"Tesla Model S\", \"100kWh\")\n",
        "print(f\"Electric Car Type: {electric_car.type}, Model: {electric_car.model}, Battery: {electric_car.battery}\")\n"
      ],
      "metadata": {
        "colab": {
          "base_uri": "https://localhost:8080/"
        },
        "id": "CWGV9klFP98u",
        "outputId": "628a5a50-835e-45d9-aaf7-2875ef4010e1"
      },
      "execution_count": 5,
      "outputs": [
        {
          "output_type": "stream",
          "name": "stdout",
          "text": [
            "Electric Car Type: Electric, Model: Tesla Model S, Battery: 100kWh\n"
          ]
        }
      ]
    },
    {
      "cell_type": "code",
      "source": [
        "class BankAccount:\n",
        "    def __init__(self):\n",
        "        self.__balance = 0\n",
        "\n",
        "    def deposit(self, amount):\n",
        "        if amount > 0:\n",
        "            self.__balance += amount\n",
        "        else:\n",
        "            print(\"Deposit amount must be positive.\")\n",
        "\n",
        "    def withdraw(self, amount):\n",
        "        if 0 < amount <= self.__balance:\n",
        "            self.__balance -= amount\n",
        "        else:\n",
        "            print(\"Invalid withdrawal amount.\")\n",
        "\n",
        "    def check_balance(self):\n",
        "        return self.__balance\n",
        "account = BankAccount()\n",
        "account.deposit(1000)\n",
        "account.withdraw(500)\n",
        "print(\"Balance:\", account.check_balance())\n"
      ],
      "metadata": {
        "colab": {
          "base_uri": "https://localhost:8080/"
        },
        "id": "UR80vZcJSYeG",
        "outputId": "7430b36a-d108-4bc1-f2f1-fdb478e12f0f"
      },
      "execution_count": 19,
      "outputs": [
        {
          "output_type": "stream",
          "name": "stdout",
          "text": [
            "Balance: 500\n"
          ]
        }
      ]
    },
    {
      "cell_type": "code",
      "source": [
        "class Instrument:\n",
        "    def play(self):\n",
        "        print(\"Playing an instrument.\")\n",
        "\n",
        "class Guitar(Instrument):\n",
        "    def play(self):\n",
        "        print(\"Strumming the guitar.\")\n",
        "\n",
        "class Piano(Instrument):\n",
        "    def play(self):\n",
        "        print(\"Playing the piano.\")\n",
        "instrument1 = Guitar()\n",
        "instrument1.play()\n",
        "instrument2 = Piano()\n",
        "instrument2.play()\n"
      ],
      "metadata": {
        "colab": {
          "base_uri": "https://localhost:8080/"
        },
        "id": "xK1aNsqUSeBu",
        "outputId": "fe2cb1ed-8c04-42b9-ac97-54b533c6216b"
      },
      "execution_count": 20,
      "outputs": [
        {
          "output_type": "stream",
          "name": "stdout",
          "text": [
            "Strumming the guitar.\n",
            "Playing the piano.\n"
          ]
        }
      ]
    },
    {
      "cell_type": "code",
      "source": [
        "class MathOperations:\n",
        "    @classmethod\n",
        "    def add_numbers(cls, a, b):\n",
        "        return a + b\n",
        "\n",
        "    @staticmethod\n",
        "    def subtract_numbers(a, b):\n",
        "        return a - b\n",
        "print(\"Sum:\", MathOperations.add_numbers(5, 3))\n",
        "print(\"Difference:\", MathOperations.subtract_numbers(5, 3))\n"
      ],
      "metadata": {
        "colab": {
          "base_uri": "https://localhost:8080/"
        },
        "id": "QFgg-Mm-Sqmh",
        "outputId": "a821fcfb-4909-46c8-e084-923fc9c838bd"
      },
      "execution_count": 21,
      "outputs": [
        {
          "output_type": "stream",
          "name": "stdout",
          "text": [
            "Sum: 8\n",
            "Difference: 2\n"
          ]
        }
      ]
    },
    {
      "cell_type": "code",
      "source": [
        "class Person:\n",
        "    total_persons = 0\n",
        "\n",
        "    def __init__(self, name):\n",
        "        self.name = name\n",
        "        Person.total_persons += 1\n",
        "\n",
        "    @classmethod\n",
        "    def count_persons(cls):\n",
        "        return cls.total_persons\n",
        "person1 = Person(\"Alice\")\n",
        "person2 = Person(\"Bob\")\n",
        "person3 = Person(\"Charlie\")\n",
        "print(\"Total persons created:\", Person.count_persons())\n"
      ],
      "metadata": {
        "colab": {
          "base_uri": "https://localhost:8080/"
        },
        "id": "r7SW3sQbSwRa",
        "outputId": "0c1cac00-16b0-480b-8a37-914242284b60"
      },
      "execution_count": 22,
      "outputs": [
        {
          "output_type": "stream",
          "name": "stdout",
          "text": [
            "Total persons created: 3\n"
          ]
        }
      ]
    },
    {
      "cell_type": "code",
      "source": [
        "class Fraction:\n",
        "    def __init__(self, numerator, denominator):\n",
        "        self.numerator = numerator\n",
        "        self.denominator = denominator\n",
        "\n",
        "    def __str__(self):\n",
        "        return f\"{self.numerator}/{self.denominator}\"\n",
        "fraction = Fraction(3, 4)\n",
        "print(fraction)\n"
      ],
      "metadata": {
        "colab": {
          "base_uri": "https://localhost:8080/"
        },
        "id": "6yopi-5aS6s0",
        "outputId": "1a09203a-94be-4192-990d-3e5b7946b9b4"
      },
      "execution_count": 23,
      "outputs": [
        {
          "output_type": "stream",
          "name": "stdout",
          "text": [
            "3/4\n"
          ]
        }
      ]
    },
    {
      "cell_type": "code",
      "source": [
        "class Vector:\n",
        "    def __init__(self, x, y):\n",
        "        self.x = x\n",
        "        self.y = y\n",
        "    def __add__(self, other):\n",
        "        return Vector(self.x + other.x, self.y + other.y)\n",
        "    def __str__(self):\n",
        "        return f\"Vector({self.x}, {self.y})\"\n",
        "v1 = Vector(2, 3)\n",
        "v2 = Vector(1, 4)\n",
        "result = v1 + v2\n",
        "print(\"Result of addition:\", result)\n"
      ],
      "metadata": {
        "colab": {
          "base_uri": "https://localhost:8080/"
        },
        "id": "01HdMq7pTBW5",
        "outputId": "a21958b1-4bd4-4cfd-b99c-3e789026a727"
      },
      "execution_count": 24,
      "outputs": [
        {
          "output_type": "stream",
          "name": "stdout",
          "text": [
            "Result of addition: Vector(3, 7)\n"
          ]
        }
      ]
    },
    {
      "cell_type": "code",
      "source": [
        "class Person:\n",
        "    def __init__(self, name, age):\n",
        "        self.name = name\n",
        "        self.age = age\n",
        "    def greet(self):\n",
        "        print(f\"Hello, my name is {self.name} and I am {self.age} years old.\")\n",
        "person = Person(\"Laksh\", 22)\n",
        "person.greet()\n"
      ],
      "metadata": {
        "colab": {
          "base_uri": "https://localhost:8080/"
        },
        "id": "nt_rMYkPTrMC",
        "outputId": "115730ec-5916-4f88-c6e7-b8211043a859"
      },
      "execution_count": 26,
      "outputs": [
        {
          "output_type": "stream",
          "name": "stdout",
          "text": [
            "Hello, my name is Laksh and I am 22 years old.\n"
          ]
        }
      ]
    },
    {
      "cell_type": "code",
      "source": [
        "class Student:\n",
        "    def __init__(self, name, grades):\n",
        "        self.name = name\n",
        "        self.grades = grades\n",
        "    def average_grade(self):\n",
        "        return sum(self.grades) / len(self.grades) if self.grades else 0\n",
        "student = Student(\"kiran\", [85, 90, 78, 92])\n",
        "print(f\"Average grade of {student.name}: {student.average_grade()}\")\n"
      ],
      "metadata": {
        "colab": {
          "base_uri": "https://localhost:8080/"
        },
        "id": "lLsnOWaEUD7e",
        "outputId": "0ed69eb6-b93a-4e70-88ce-da692ceb456b"
      },
      "execution_count": 29,
      "outputs": [
        {
          "output_type": "stream",
          "name": "stdout",
          "text": [
            "Average grade of kiran: 86.25\n"
          ]
        }
      ]
    },
    {
      "cell_type": "code",
      "source": [
        "class Rectangle:\n",
        "    def __init__(self):\n",
        "        self.width = 0\n",
        "        self.height = 0\n",
        "    def set_dimensions(self, width, height):\n",
        "        self.width = width\n",
        "        self.height = height\n",
        "    def area(self):\n",
        "        return self.width * self.height\n",
        "rectangle = Rectangle()\n",
        "rectangle.set_dimensions(4, 6)\n",
        "print(f\"Area of the rectangle: {rectangle.area()}\")\n"
      ],
      "metadata": {
        "colab": {
          "base_uri": "https://localhost:8080/"
        },
        "id": "4JV1jozCUMGN",
        "outputId": "9e99e723-aa29-40db-e5ff-2c55ef547f12"
      },
      "execution_count": 28,
      "outputs": [
        {
          "output_type": "stream",
          "name": "stdout",
          "text": [
            "Area of the rectangle: 24\n"
          ]
        }
      ]
    },
    {
      "cell_type": "code",
      "source": [
        "class Employee:\n",
        "    def __init__(self, name, hours_worked, hourly_rate):\n",
        "        self.name = name\n",
        "        self.hours_worked = hours_worked\n",
        "        self.hourly_rate = hourly_rate\n",
        "    def calculate_salary(self):\n",
        "        return self.hours_worked * self.hourly_rate\n",
        "class Manager(Employee):\n",
        "    def __init__(self, name, hours_worked, hourly_rate, bonus):\n",
        "        super().__init__(name, hours_worked, hourly_rate)\n",
        "        self.bonus = bonus\n",
        "\n",
        "    def calculate_salary(self):\n",
        "        return super().calculate_salary() + self.bonus\n",
        "employee = Employee(\"himanshu\", 40, 20)\n",
        "print(f\"Employee salary: ${employee.calculate_salary()}\")\n",
        "manager = Manager(\"Sara\", 40, 25, 500)\n",
        "print(f\"Manager salary: ${manager.calculate_salary()}\")\n"
      ],
      "metadata": {
        "colab": {
          "base_uri": "https://localhost:8080/"
        },
        "id": "k0C0IsJLUeQ-",
        "outputId": "84ea5b4c-efd5-4fad-8c00-e64913be9100"
      },
      "execution_count": 30,
      "outputs": [
        {
          "output_type": "stream",
          "name": "stdout",
          "text": [
            "Employee salary: $800\n",
            "Manager salary: $1500\n"
          ]
        }
      ]
    },
    {
      "cell_type": "code",
      "source": [
        "class Product:\n",
        "    def __init__(self, name, price, quantity):\n",
        "        self.name = name\n",
        "        self.price = price\n",
        "        self.quantity = quantity\n",
        "    def total_price(self):\n",
        "        return self.price * self.quantity\n",
        "product = Product(\"computer\", 1000, 3)\n",
        "print(f\"Total price of {product.name}: ${product.total_price()}\")"
      ],
      "metadata": {
        "colab": {
          "base_uri": "https://localhost:8080/"
        },
        "id": "D4r0-o9tVHWT",
        "outputId": "61af6014-250b-4b8a-9644-ce51fc975fa3"
      },
      "execution_count": 32,
      "outputs": [
        {
          "output_type": "stream",
          "name": "stdout",
          "text": [
            "Total price of computer: $3000\n"
          ]
        }
      ]
    },
    {
      "cell_type": "code",
      "source": [
        "\n",
        "class Animal(ABC):\n",
        "    @abstractmethod\n",
        "    def sound(self):\n",
        "        pass\n",
        "\n",
        "class Cow(Animal):\n",
        "    def sound(self):\n",
        "        print(\"Moo!\")\n",
        "class Sheep(Animal):\n",
        "    def sound(self):\n",
        "        print(\"Baa!\")\n",
        "cow = Cow()\n",
        "cow.sound()\n",
        "sheep = Sheep()\n",
        "sheep.sound()\n"
      ],
      "metadata": {
        "colab": {
          "base_uri": "https://localhost:8080/"
        },
        "id": "pxJATcU4Vct8",
        "outputId": "8bb306bb-6ade-41c1-dc51-e69c2d18cd63"
      },
      "execution_count": 34,
      "outputs": [
        {
          "output_type": "stream",
          "name": "stdout",
          "text": [
            "Moo!\n",
            "Baa!\n"
          ]
        }
      ]
    },
    {
      "cell_type": "code",
      "source": [
        "class Book:\n",
        "    def __init__(self, title, author, year_published):\n",
        "        self.title = title\n",
        "        self.author = author\n",
        "        self.year_published = year_published\n",
        "\n",
        "    def get_book_info(self):\n",
        "        return f\"Title: {self.title}, Author: {self.author}, Year Published: {self.year_published}\"\n",
        "book = Book(\"Game of Thrones\", \"George R. R. Martin\", 1996)\n",
        "print(book.get_book_info())\n"
      ],
      "metadata": {
        "colab": {
          "base_uri": "https://localhost:8080/"
        },
        "id": "8LfMpZHHVuNo",
        "outputId": "8a13b945-c7b1-4cd9-e40d-fb75390ea438"
      },
      "execution_count": 37,
      "outputs": [
        {
          "output_type": "stream",
          "name": "stdout",
          "text": [
            "Title: Game of Thrones, Author: George R. R. Martin, Year Published: 1996\n"
          ]
        }
      ]
    },
    {
      "cell_type": "code",
      "source": [
        "\n",
        "class House:\n",
        "    def __init__(self, address, price):\n",
        "        self.address = address\n",
        "        self.price = price\n",
        "\n",
        "class Mansion(House):\n",
        "    def __init__(self, address, price, number_of_rooms):\n",
        "        super().__init__(address, price)\n",
        "        self.number_of_rooms = number_of_rooms\n",
        "house = House(\"chok k samne\", 250000)\n",
        "print(f\"House address: {house.address}, Price: ${house.price}\")\n",
        "\n",
        "mansion = Mansion(\"404 rajput nivas \", 5000000, 15)\n",
        "print(f\"Mansion address: {mansion.address}, Price: ${mansion.price}, Number of rooms: {mansion.number_of_rooms}\")\n"
      ],
      "metadata": {
        "colab": {
          "base_uri": "https://localhost:8080/"
        },
        "id": "eSkRQfOYWduC",
        "outputId": "e06253e7-4757-459a-b938-cfd3d54826ec"
      },
      "execution_count": 40,
      "outputs": [
        {
          "output_type": "stream",
          "name": "stdout",
          "text": [
            "House address: chok k samne, Price: $250000\n",
            "Mansion address: 404 rajput nivas , Price: $5000000, Number of rooms: 15\n"
          ]
        }
      ]
    }
  ]
}